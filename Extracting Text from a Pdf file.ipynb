{
 "cells": [
  {
   "cell_type": "code",
   "execution_count": 5,
   "id": "966a36d1",
   "metadata": {
    "scrolled": true
   },
   "outputs": [
    {
     "name": "stdout",
     "output_type": "stream",
     "text": [
      "Requirement already satisfied: PyPDF2 in ./opt/anaconda3/lib/python3.8/site-packages (2.4.2)\n",
      "Requirement already satisfied: typing-extensions in ./opt/anaconda3/lib/python3.8/site-packages (from PyPDF2) (3.7.4.3)\n",
      "Note: you may need to restart the kernel to use updated packages.\n"
     ]
    }
   ],
   "source": [
    "pip install PyPDF2"
   ]
  },
  {
   "cell_type": "code",
   "execution_count": 6,
   "id": "a8724991",
   "metadata": {
    "scrolled": true
   },
   "outputs": [],
   "source": [
    "from PyPDF2 import PdfFileReader, PdfFileWriter"
   ]
  },
  {
   "cell_type": "code",
   "execution_count": 8,
   "id": "96e2019b",
   "metadata": {},
   "outputs": [
    {
     "data": {
      "text/plain": [
       "'/Users/estherdokumensah'"
      ]
     },
     "execution_count": 8,
     "metadata": {},
     "output_type": "execute_result"
    }
   ],
   "source": [
    "pwd"
   ]
  },
  {
   "cell_type": "code",
   "execution_count": 9,
   "id": "5c3b5d2d",
   "metadata": {},
   "outputs": [],
   "source": [
    "file_path = 'ESTHER DOKU MENSAH,cv.pdf'"
   ]
  },
  {
   "cell_type": "code",
   "execution_count": 10,
   "id": "4ff1b8a9",
   "metadata": {},
   "outputs": [],
   "source": [
    "pdf = PdfFileReader(file_path)"
   ]
  },
  {
   "cell_type": "code",
   "execution_count": 15,
   "id": "ee898bcc",
   "metadata": {},
   "outputs": [
    {
     "name": "stdout",
     "output_type": "stream",
     "text": [
      "----------------------------------------------------------------------------------------------------\n",
      "----------------------------------------------------------------------------------------------------\n"
     ]
    }
   ],
   "source": [
    "## Storing this in a text file\n",
    "with open('Esther.txt','w') as f:\n",
    "    for page_num in range(pdf.numPages):\n",
    "        #print('Page: {0}',format(page_num))\n",
    "        pageObj = pdf.getPage(page_num)\n",
    "        \n",
    "        try:\n",
    "            txt = pageObj.extractText()\n",
    "            print(''.center(100, '-'))\n",
    "        except:\n",
    "            pass\n",
    "        else:\n",
    "            f.write('Page {0}\\n' .format(page_num+1))\n",
    "            f.write(''.center(100, '-'))\n",
    "            f.write(txt)\n",
    "        f.close"
   ]
  },
  {
   "cell_type": "code",
   "execution_count": null,
   "id": "96488387",
   "metadata": {},
   "outputs": [],
   "source": []
  }
 ],
 "metadata": {
  "kernelspec": {
   "display_name": "Python 3",
   "language": "python",
   "name": "python3"
  },
  "language_info": {
   "codemirror_mode": {
    "name": "ipython",
    "version": 3
   },
   "file_extension": ".py",
   "mimetype": "text/x-python",
   "name": "python",
   "nbconvert_exporter": "python",
   "pygments_lexer": "ipython3",
   "version": "3.8.8"
  }
 },
 "nbformat": 4,
 "nbformat_minor": 5
}
